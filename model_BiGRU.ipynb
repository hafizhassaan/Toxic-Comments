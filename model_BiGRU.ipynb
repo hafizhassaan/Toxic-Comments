{
 "cells": [
  {
   "cell_type": "code",
   "execution_count": 1,
   "metadata": {},
   "outputs": [
    {
     "name": "stderr",
     "output_type": "stream",
     "text": [
      "/home/hassaan/anaconda3/lib/python3.6/site-packages/h5py/__init__.py:36: FutureWarning: Conversion of the second argument of issubdtype from `float` to `np.floating` is deprecated. In future, it will be treated as `np.float64 == np.dtype(float).type`.\n",
      "  from ._conv import register_converters as _register_converters\n",
      "Using TensorFlow backend.\n"
     ]
    }
   ],
   "source": [
    "import gc\n",
    "import numpy as np\n",
    "import pandas as pd\n",
    "import seaborn as sns\n",
    "import matplotlib.pyplot as plt\n",
    "\n",
    "from sklearn.metrics import roc_auc_score, roc_curve, auc, accuracy_score\n",
    "from sklearn.metrics import classification_report, precision_recall_curve\n",
    "\n",
    "import tensorflow as tf\n",
    "import keras.backend as K\n",
    "from keras.models import Model\n",
    "from keras.models import load_model\n",
    "from keras.preprocessing import text, sequence\n",
    "from keras.layers import Input, Embedding, SpatialDropout1D\n",
    "from keras.layers import Concatenate, concatenate, Dropout, Dense\n",
    "from keras.layers import Bidirectional, GRU, Conv1D, Flatten\n",
    "from keras.layers import GlobalMaxPooling1D, GlobalAveragePooling1D"
   ]
  },
  {
   "cell_type": "code",
   "execution_count": 2,
   "metadata": {},
   "outputs": [],
   "source": [
    "trainfile = './data/train.csv'\n",
    "testfile = './data/mergedtest.csv'\n",
    "embeddingfile = './embeddings/crawl-300d-2M.vec'\n",
    "\n",
    "max_features = 100000\n",
    "max_len = 200\n",
    "embed_size = 300\n",
    "\n",
    "modelname = 'BiGRU'\n",
    "batch_size = 256\n",
    "epochs = 3\n",
    "\n",
    "modelfilename = './models/model_' + modelname + '.h5'"
   ]
  },
  {
   "cell_type": "code",
   "execution_count": 3,
   "metadata": {},
   "outputs": [],
   "source": [
    "df = pd.read_csv(trainfile)\n",
    "dftest = pd.read_csv(testfile)"
   ]
  },
  {
   "cell_type": "code",
   "execution_count": 4,
   "metadata": {},
   "outputs": [
    {
     "name": "stdout",
     "output_type": "stream",
     "text": [
      "train set has 159571 rows and 8 columns\n",
      "test set has 63978 rows and 8 columns\n"
     ]
    }
   ],
   "source": [
    "print('train set has', df.shape[0], 'rows and', df.shape[1], 'columns')\n",
    "print('test set has', dftest.shape[0], 'rows and', dftest.shape[1], 'columns')"
   ]
  },
  {
   "cell_type": "code",
   "execution_count": 5,
   "metadata": {},
   "outputs": [
    {
     "data": {
      "text/plain": [
       "id               False\n",
       "comment_text     False\n",
       "toxic            False\n",
       "severe_toxic     False\n",
       "obscene          False\n",
       "threat           False\n",
       "insult           False\n",
       "identity_hate    False\n",
       "dtype: bool"
      ]
     },
     "execution_count": 5,
     "metadata": {},
     "output_type": "execute_result"
    }
   ],
   "source": [
    "df.comment_text = df.comment_text.apply( lambda x: np.nan if len(str(x)) <= 1 else x )\n",
    "df.isnull().any()"
   ]
  },
  {
   "cell_type": "code",
   "execution_count": 6,
   "metadata": {},
   "outputs": [
    {
     "data": {
      "text/html": [
       "<div>\n",
       "<style scoped>\n",
       "    .dataframe tbody tr th:only-of-type {\n",
       "        vertical-align: middle;\n",
       "    }\n",
       "\n",
       "    .dataframe tbody tr th {\n",
       "        vertical-align: top;\n",
       "    }\n",
       "\n",
       "    .dataframe thead th {\n",
       "        text-align: right;\n",
       "    }\n",
       "</style>\n",
       "<table border=\"1\" class=\"dataframe\">\n",
       "  <thead>\n",
       "    <tr style=\"text-align: right;\">\n",
       "      <th></th>\n",
       "      <th>id</th>\n",
       "      <th>comment_text</th>\n",
       "      <th>toxic</th>\n",
       "      <th>severe_toxic</th>\n",
       "      <th>obscene</th>\n",
       "      <th>threat</th>\n",
       "      <th>insult</th>\n",
       "      <th>identity_hate</th>\n",
       "    </tr>\n",
       "  </thead>\n",
       "  <tbody>\n",
       "  </tbody>\n",
       "</table>\n",
       "</div>"
      ],
      "text/plain": [
       "Empty DataFrame\n",
       "Columns: [id, comment_text, toxic, severe_toxic, obscene, threat, insult, identity_hate]\n",
       "Index: []"
      ]
     },
     "execution_count": 6,
     "metadata": {},
     "output_type": "execute_result"
    }
   ],
   "source": [
    "df[df['comment_text'].isnull()]"
   ]
  },
  {
   "cell_type": "code",
   "execution_count": 7,
   "metadata": {},
   "outputs": [
    {
     "name": "stdout",
     "output_type": "stream",
     "text": [
      "train set shape: (159571, 8)\n",
      "test set shape: (63978, 8)\n"
     ]
    }
   ],
   "source": [
    "df.dropna( inplace=True )\n",
    "print( 'train set shape:', df.shape )\n",
    "print( 'test set shape:', dftest.shape )"
   ]
  },
  {
   "cell_type": "code",
   "execution_count": 8,
   "metadata": {},
   "outputs": [],
   "source": [
    "df.comment_text = df.comment_text.astype(str)\n",
    "dftest.comment_text = dftest.comment_text.astype(str)"
   ]
  },
  {
   "cell_type": "code",
   "execution_count": 9,
   "metadata": {},
   "outputs": [
    {
     "name": "stdout",
     "output_type": "stream",
     "text": [
      "Vocabulary Size: 100000\n"
     ]
    }
   ],
   "source": [
    "labels = ['toxic', 'severe_toxic', 'obscene', 'threat', 'insult', 'identity_hate']\n",
    "\n",
    "tokenizer = text.Tokenizer( num_words=max_features )\n",
    "tokenizer.fit_on_texts( df.comment_text )\n",
    "\n",
    "print( 'Vocabulary Size:', tokenizer.num_words )"
   ]
  },
  {
   "cell_type": "code",
   "execution_count": 10,
   "metadata": {},
   "outputs": [
    {
     "data": {
      "text/plain": [
       "0"
      ]
     },
     "execution_count": 10,
     "metadata": {},
     "output_type": "execute_result"
    }
   ],
   "source": [
    "xtrain = tokenizer.texts_to_sequences( df.comment_text.values )\n",
    "xtrain = sequence.pad_sequences( xtrain, maxlen=max_len )\n",
    "\n",
    "xtest = tokenizer.texts_to_sequences( dftest.comment_text.values )\n",
    "xtest = sequence.pad_sequences( xtest, maxlen=max_len )\n",
    "\n",
    "ytrain = df[ labels ].values\n",
    "\n",
    "gc.collect()"
   ]
  },
  {
   "cell_type": "markdown",
   "metadata": {},
   "source": [
    "#### Loading FastText embedding"
   ]
  },
  {
   "cell_type": "code",
   "execution_count": 11,
   "metadata": {},
   "outputs": [
    {
     "name": "stdout",
     "output_type": "stream",
     "text": [
      "Embedding Matrix Shape: (100000, 300)\n"
     ]
    },
    {
     "data": {
      "text/plain": [
       "0"
      ]
     },
     "execution_count": 11,
     "metadata": {},
     "output_type": "execute_result"
    }
   ],
   "source": [
    "def get_coefs(word, *arr):\n",
    "    return word, np.asarray(arr, dtype='float32')\n",
    "\n",
    "embeddings_index = dict(get_coefs(*o.rstrip().rsplit(' ')) for o in open( embeddingfile, encoding='utf-8' ))\n",
    "\n",
    "word_index = tokenizer.word_index\n",
    "num_words = min(max_features, len(word_index))\n",
    "embedding_matrix = np.zeros((num_words, embed_size))\n",
    "for word, i in word_index.items():\n",
    "    if i >= max_features:\n",
    "        continue\n",
    "    embedding_vector = embeddings_index.get(word)\n",
    "    if embedding_vector is not None:\n",
    "        embedding_matrix[i] = embedding_vector\n",
    "\n",
    "del embeddings_index\n",
    "embeddings_index = None\n",
    "\n",
    "print ( 'Embedding Matrix Shape:', embedding_matrix.shape )\n",
    "\n",
    "gc.collect()"
   ]
  },
  {
   "cell_type": "code",
   "execution_count": 12,
   "metadata": {},
   "outputs": [],
   "source": [
    "K.clear_session()"
   ]
  },
  {
   "cell_type": "markdown",
   "metadata": {},
   "source": [
    "#### The Model"
   ]
  },
  {
   "cell_type": "code",
   "execution_count": 13,
   "metadata": {},
   "outputs": [],
   "source": [
    "def focal_loss(gamma=5., alpha=.25):\n",
    "    def focal_loss_fixed(y_true, y_pred):\n",
    "        pt_1 = tf.where(tf.equal(y_true, 1), y_pred, tf.ones_like(y_pred))\n",
    "        pt_0 = tf.where(tf.equal(y_true, 0), y_pred, tf.zeros_like(y_pred))\n",
    "        return -K.sum(alpha * K.pow(1. - pt_1, gamma) * K.log(pt_1))-K.sum((1-alpha) * K.pow( pt_0, gamma) * K.log(1. - pt_0))\n",
    "    return focal_loss_fixed"
   ]
  },
  {
   "cell_type": "code",
   "execution_count": 14,
   "metadata": {},
   "outputs": [
    {
     "name": "stdout",
     "output_type": "stream",
     "text": [
      "__________________________________________________________________________________________________\n",
      "Layer (type)                    Output Shape         Param #     Connected to                     \n",
      "==================================================================================================\n",
      "InputLayer (InputLayer)         (None, 200)          0                                            \n",
      "__________________________________________________________________________________________________\n",
      "Embedding (Embedding)           (None, 200, 300)     30000000    InputLayer[0][0]                 \n",
      "__________________________________________________________________________________________________\n",
      "SpatialDropout1D (SpatialDropou (None, 200, 300)     0           Embedding[0][0]                  \n",
      "__________________________________________________________________________________________________\n",
      "BiGRU1 (Bidirectional)          (None, 200, 256)     329472      SpatialDropout1D[0][0]           \n",
      "__________________________________________________________________________________________________\n",
      "BiGRU2 (Bidirectional)          (None, 200, 128)     140160      SpatialDropout1D[0][0]           \n",
      "__________________________________________________________________________________________________\n",
      "concatenate_1 (Concatenate)     (None, 200, 384)     0           BiGRU1[0][0]                     \n",
      "                                                                 BiGRU2[0][0]                     \n",
      "__________________________________________________________________________________________________\n",
      "GlobalAvgPool (GlobalAveragePoo (None, 384)          0           concatenate_1[0][0]              \n",
      "__________________________________________________________________________________________________\n",
      "GlobalMaxPool (GlobalMaxPooling (None, 384)          0           concatenate_1[0][0]              \n",
      "__________________________________________________________________________________________________\n",
      "ConcatenateLayer (Concatenate)  (None, 768)          0           GlobalAvgPool[0][0]              \n",
      "                                                                 GlobalMaxPool[0][0]              \n",
      "__________________________________________________________________________________________________\n",
      "DropoutConcat (Dropout)         (None, 768)          0           ConcatenateLayer[0][0]           \n",
      "__________________________________________________________________________________________________\n",
      "FC1 (Dense)                     (None, 100)          76900       DropoutConcat[0][0]              \n",
      "__________________________________________________________________________________________________\n",
      "FC2 (Dense)                     (None, 50)           5050        FC1[0][0]                        \n",
      "__________________________________________________________________________________________________\n",
      "Output (Dense)                  (None, 6)            306         FC2[0][0]                        \n",
      "==================================================================================================\n",
      "Total params: 30,551,888\n",
      "Trainable params: 30,551,888\n",
      "Non-trainable params: 0\n",
      "__________________________________________________________________________________________________\n"
     ]
    }
   ],
   "source": [
    "inp = Input( shape=(max_len, ), name='InputLayer' )\n",
    "\n",
    "x = Embedding( max_features, embed_size, weights=[embedding_matrix], name='Embedding' )( inp )\n",
    "x = SpatialDropout1D( 0.4, name='SpatialDropout1D' )( x )\n",
    "x1 = Bidirectional( GRU( 128, return_sequences=True, activation='elu', name='GRU1' ), name='BiGRU1' )(x)\n",
    "x2 = Bidirectional( GRU( 64, return_sequences=True, activation='elu', name='GRU2' ), name='BiGRU2' )(x)\n",
    "\n",
    "conc = concatenate([x1, x2])\n",
    "\n",
    "pooled = [  ]\n",
    "\n",
    "avg_pool = GlobalAveragePooling1D( name='GlobalAvgPool' )(conc)\n",
    "max_pool = GlobalMaxPooling1D( name='GlobalMaxPool' )(conc)\n",
    "\n",
    "pooled.append( avg_pool )\n",
    "pooled.append( max_pool )\n",
    "\n",
    "x = Concatenate( axis=1, name='ConcatenateLayer' )( pooled )\n",
    "\n",
    "x = Dropout( 0.1, name='DropoutConcat' ) ( x )\n",
    "\n",
    "fc1 = Dense( 100, activation='elu', name='FC1' )( x )\n",
    "fc2 = Dense( 50, activation='elu', name='FC2' )( fc1 )\n",
    "outp = Dense( 6, activation='sigmoid', name='Output' )( fc2 )\n",
    "model = Model( inputs=inp, outputs=outp )\n",
    "model.compile( loss=[focal_loss(alpha=.25, gamma=5)],\n",
    "              optimizer='adam', metrics=['accuracy'] )\n",
    "model.summary(  )"
   ]
  },
  {
   "cell_type": "markdown",
   "metadata": {},
   "source": [
    "#### Train and Save the Model"
   ]
  },
  {
   "cell_type": "code",
   "execution_count": 15,
   "metadata": {},
   "outputs": [
    {
     "name": "stdout",
     "output_type": "stream",
     "text": [
      "Epoch 1/3\n",
      "159571/159571 [==============================] - 957s 6ms/step - loss: 1.3283 - acc: 0.8715\n",
      "Epoch 2/3\n",
      "159571/159571 [==============================] - 969s 6ms/step - loss: 0.9412 - acc: 0.9489\n",
      "Epoch 3/3\n",
      "159571/159571 [==============================] - 1147s 7ms/step - loss: 0.8336 - acc: 0.9306\n"
     ]
    }
   ],
   "source": [
    "hist = model.fit( xtrain, ytrain, batch_size=batch_size, epochs=epochs, verbose=1 )\n",
    "model.save(modelfilename)"
   ]
  },
  {
   "cell_type": "code",
   "execution_count": 16,
   "metadata": {},
   "outputs": [
    {
     "data": {
      "image/png": "[encoded data removed]",
      "text/plain": [
       "<Figure size 432x288 with 1 Axes>"
      ]
     },
     "metadata": {},
     "output_type": "display_data"
    }
   ],
   "source": [
    "plt.plot( hist.history['acc'], label='accuracy' )\n",
    "plt.plot( hist.history['loss'], label='loss' )\n",
    "plt.legend( loc='best' )\n",
    "plt.show()"
   ]
  },
  {
   "cell_type": "markdown",
   "metadata": {},
   "source": [
    "#### Collect the Garbage"
   ]
  },
  {
   "cell_type": "code",
   "execution_count": 17,
   "metadata": {},
   "outputs": [
    {
     "data": {
      "text/plain": [
       "18189"
      ]
     },
     "execution_count": 17,
     "metadata": {},
     "output_type": "execute_result"
    }
   ],
   "source": [
    "#del model\n",
    "#model = None\n",
    "\n",
    "gc.collect()"
   ]
  },
  {
   "cell_type": "markdown",
   "metadata": {},
   "source": [
    "#### Load the Model that was saved previously"
   ]
  },
  {
   "cell_type": "code",
   "execution_count": 18,
   "metadata": {},
   "outputs": [],
   "source": [
    "#loaded_model = load_model( modelfilename )\n",
    "loaded_model = model"
   ]
  },
  {
   "cell_type": "markdown",
   "metadata": {},
   "source": [
    "#### Getting Predictions for Traning Set"
   ]
  },
  {
   "cell_type": "code",
   "execution_count": 19,
   "metadata": {},
   "outputs": [
    {
     "name": "stdout",
     "output_type": "stream",
     "text": [
      "159571/159571 [==============================] - 126s 790us/step\n"
     ]
    }
   ],
   "source": [
    "trainpredictions = loaded_model.predict( xtrain, verbose=1, batch_size=512 )"
   ]
  },
  {
   "cell_type": "markdown",
   "metadata": {},
   "source": [
    "#### Average ROC AUC per Column (training)"
   ]
  },
  {
   "cell_type": "code",
   "execution_count": 20,
   "metadata": {},
   "outputs": [
    {
     "data": {
      "text/plain": [
       "0.9239210132166873"
      ]
     },
     "execution_count": 20,
     "metadata": {},
     "output_type": "execute_result"
    }
   ],
   "source": [
    "train_acc = accuracy_score( df[labels].values, (trainpredictions>=0.5).astype('int64') )\n",
    "train_acc"
   ]
  },
  {
   "cell_type": "code",
   "execution_count": 21,
   "metadata": {},
   "outputs": [
    {
     "name": "stdout",
     "output_type": "stream",
     "text": [
      "Average ROC AUC score per column (training): 0.9955328178005849\n"
     ]
    }
   ],
   "source": [
    "train_rocs = [roc_auc_score(df[lbl], trainpredictions[:,i]) for i, lbl in enumerate(labels)]\n",
    "print('Average ROC AUC score per column (training):', np.mean(train_rocs))"
   ]
  },
  {
   "cell_type": "markdown",
   "metadata": {},
   "source": [
    "#### Getting Predictions for Test Set"
   ]
  },
  {
   "cell_type": "code",
   "execution_count": 22,
   "metadata": {},
   "outputs": [
    {
     "name": "stdout",
     "output_type": "stream",
     "text": [
      "63978/63978 [==============================] - 50s 776us/step\n"
     ]
    }
   ],
   "source": [
    "testpredictions = loaded_model.predict( xtest, verbose=1, batch_size=512 )"
   ]
  },
  {
   "cell_type": "markdown",
   "metadata": {},
   "source": [
    "#### Average ROC AUC per Column (test)"
   ]
  },
  {
   "cell_type": "code",
   "execution_count": 23,
   "metadata": {},
   "outputs": [
    {
     "data": {
      "text/plain": [
       "0.9064522179499203"
      ]
     },
     "execution_count": 23,
     "metadata": {},
     "output_type": "execute_result"
    }
   ],
   "source": [
    "test_acc = accuracy_score( dftest[labels].values, (testpredictions>=0.5).astype('int64') )\n",
    "test_acc"
   ]
  },
  {
   "cell_type": "code",
   "execution_count": 24,
   "metadata": {},
   "outputs": [
    {
     "name": "stdout",
     "output_type": "stream",
     "text": [
      "Average ROC AUC score per column (testing): 0.9823344791842166\n"
     ]
    }
   ],
   "source": [
    "test_rocs = [roc_auc_score(dftest[lbl], testpredictions[:,i]) for i, lbl in enumerate(labels)]\n",
    "print('Average ROC AUC score per column (testing):', np.mean(test_rocs))"
   ]
  },
  {
   "cell_type": "code",
   "execution_count": 25,
   "metadata": {},
   "outputs": [
    {
     "name": "stdout",
     "output_type": "stream",
     "text": [
      "             precision    recall  f1-score   support\n",
      "\n",
      "          0       0.74      0.66      0.70      6090\n",
      "          1       0.52      0.07      0.12       367\n",
      "          2       0.73      0.67      0.70      3691\n",
      "          3       0.71      0.14      0.24       211\n",
      "          4       0.85      0.43      0.57      3427\n",
      "          5       0.85      0.18      0.30       712\n",
      "\n",
      "avg / total       0.76      0.56      0.63     14498\n",
      "\n"
     ]
    }
   ],
   "source": [
    "print(classification_report( dftest[labels].values, (testpredictions>=0.5).astype('int64') ))"
   ]
  },
  {
   "cell_type": "code",
   "execution_count": 26,
   "metadata": {},
   "outputs": [
    {
     "data": {
      "image/png": "[encoded data removed]",
      "text/plain": [
       "<Figure size 576x432 with 1 Axes>"
      ]
     },
     "metadata": {},
     "output_type": "display_data"
    }
   ],
   "source": [
    "plt.figure(figsize=(8, 6))\n",
    "for i, lbl in enumerate(labels):\n",
    "    precision, recall, _ = precision_recall_curve(dftest[lbl], testpredictions[:,i])\n",
    "    plt.step(recall, precision, where='post', label='{0}'.format(labels[i]))\n",
    "\n",
    "plt.xlabel('Recall')\n",
    "plt.ylabel('Precision')\n",
    "plt.ylim([0.0, 1.05])\n",
    "plt.xlim([0.0, 1.0])\n",
    "plt.title( 'Precision-Recall Curve for {0}'.format(modelname) )\n",
    "plt.legend(loc='upper right')\n",
    "plt.show()"
   ]
  },
  {
   "cell_type": "code",
   "execution_count": 27,
   "metadata": {},
   "outputs": [
    {
     "data": {
      "image/png": "[encoded data removed]",
      "text/plain": [
       "<Figure size 576x432 with 1 Axes>"
      ]
     },
     "metadata": {},
     "output_type": "display_data"
    }
   ],
   "source": [
    "fpr = dict()\n",
    "tpr = dict()\n",
    "roc_auc = dict()\n",
    "for i, lbl in enumerate(labels):\n",
    "    fpr[i], tpr[i], _ = roc_curve( dftest[lbl], testpredictions[:,i] )\n",
    "    roc_auc[i] = auc(fpr[i], tpr[i])\n",
    "\n",
    "plt.figure(figsize=(8, 6))\n",
    "\n",
    "for i in range( len(labels) ):\n",
    "    plt.plot(fpr[i], tpr[i], lw=2, label='{0} (area = {1:0.2f})'.format(labels[i], roc_auc[i]))\n",
    "\n",
    "plt.plot([0, 1], [0, 1], '--', lw=3, color='navy')\n",
    "plt.xlim([0.0, 1.0])\n",
    "plt.ylim([0.0, 1.05])\n",
    "plt.xlabel('False Positive Rate')\n",
    "plt.ylabel('True Positive Rate')\n",
    "plt.title('ROC Curve for {0}'.format(modelname))\n",
    "plt.legend(loc=\"lower right\")\n",
    "plt.show()"
   ]
  },
  {
   "cell_type": "code",
   "execution_count": 28,
   "metadata": {},
   "outputs": [
    {
     "data": {
      "text/plain": [
       "6244"
      ]
     },
     "execution_count": 28,
     "metadata": {},
     "output_type": "execute_result"
    }
   ],
   "source": [
    "gc.collect()"
   ]
  }
 ],
 "metadata": {
  "kernelspec": {
   "display_name": "Python 3",
   "language": "python",
   "name": "python3"
  },
  "language_info": {
   "codemirror_mode": {
    "name": "ipython",
    "version": 3
   },
   "file_extension": ".py",
   "mimetype": "text/x-python",
   "name": "python",
   "nbconvert_exporter": "python",
   "pygments_lexer": "ipython3",
   "version": "3.6.5"
  }
 },
 "nbformat": 4,
 "nbformat_minor": 2
}
