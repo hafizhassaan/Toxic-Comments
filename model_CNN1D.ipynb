{
 "cells": [
  {
   "cell_type": "code",
   "execution_count": null,
   "metadata": {},
   "outputs": [],
   "source": [
    "!free -g"
   ]
  },
  {
   "cell_type": "code",
   "execution_count": null,
   "metadata": {},
   "outputs": [],
   "source": [
    "!pip install -U -q PyDrive\n",
    "from pydrive.auth import GoogleAuth\n",
    "from pydrive.drive import GoogleDrive\n",
    "from google.colab import auth\n",
    "from oauth2client.client import GoogleCredentials\n",
    "\n",
    "auth.authenticate_user()\n",
    "gauth = GoogleAuth()\n",
    "gauth.credentials = GoogleCredentials.get_application_default()\n",
    "drive = GoogleDrive(gauth)\n",
    "\n",
    "\n",
    "file_list = drive.ListFile({'q': \"'1Ba5GUjD0yxVgPmKYjW00PyJD5MSjb7S8' in parents and trashed=false\"}).GetList()\n",
    "for file1 in file_list:\n",
    "  print('title: %s, id: %s' % (file1['title'], file1['id']))"
   ]
  },
  {
   "cell_type": "code",
   "execution_count": null,
   "metadata": {},
   "outputs": [],
   "source": [
    "train_downloaded = drive.CreateFile({'id': '1KfT0IoD_jA--BWFOpFACd-6N6RxvIm5k'})\n",
    "train_downloaded.GetContentFile('train.csv')\n",
    "\n",
    "test_downloaded = drive.CreateFile({'id': '1LmWC9oDwEFI7u7iqVOdwU_v8hkYm_R2O'})\n",
    "test_downloaded.GetContentFile('mergedtest.csv')\n",
    "\n",
    "embedding_downloaded = drive.CreateFile({'id': '1eM-hTMlM3g4JjE_AjcY2ya_EzcqCgI8-'})\n",
    "embedding_downloaded.GetContentFile('crawl-300d-2M.vec')"
   ]
  },
  {
   "cell_type": "code",
   "execution_count": 1,
   "metadata": {},
   "outputs": [
    {
     "name": "stderr",
     "output_type": "stream",
     "text": [
      "/home/hassaan/anaconda3/lib/python3.6/site-packages/h5py/__init__.py:36: FutureWarning: Conversion of the second argument of issubdtype from `float` to `np.floating` is deprecated. In future, it will be treated as `np.float64 == np.dtype(float).type`.\n",
      "  from ._conv import register_converters as _register_converters\n",
      "Using TensorFlow backend.\n"
     ]
    }
   ],
   "source": [
    "import gc\n",
    "import numpy as np\n",
    "import pandas as pd\n",
    "import seaborn as sns\n",
    "import matplotlib.pyplot as plt\n",
    "\n",
    "from sklearn.metrics import roc_auc_score, roc_curve, auc, accuracy_score\n",
    "from sklearn.metrics import classification_report, precision_recall_curve\n",
    "\n",
    "import tensorflow as tf\n",
    "import keras.backend as K\n",
    "from keras.models import Model\n",
    "from keras.models import Sequential\n",
    "from keras.models import load_model\n",
    "from keras.preprocessing import text, sequence\n",
    "from keras.layers import Input, Embedding, SpatialDropout1D, Conv1D, MaxPool1D\n",
    "from keras.layers import Dropout, Dense, Flatten"
   ]
  },
  {
   "cell_type": "code",
   "execution_count": 2,
   "metadata": {},
   "outputs": [],
   "source": [
    "trainfile = './data/train.csv'\n",
    "testfile = './data/mergedtest.csv'\n",
    "embeddingfile = './embeddings/crawl-300d-2M.vec'\n",
    "\n",
    "max_features = 100000\n",
    "max_len = 200\n",
    "embed_size = 300\n",
    "\n",
    "modelname = 'CNN1D'\n",
    "batch_size = 256\n",
    "epochs = 3\n",
    "\n",
    "modelfilename = './models/model_' + modelname + '.h5'"
   ]
  },
  {
   "cell_type": "code",
   "execution_count": 3,
   "metadata": {},
   "outputs": [],
   "source": [
    "df = pd.read_csv(trainfile)\n",
    "dftest = pd.read_csv(testfile)"
   ]
  },
  {
   "cell_type": "code",
   "execution_count": 4,
   "metadata": {},
   "outputs": [
    {
     "name": "stdout",
     "output_type": "stream",
     "text": [
      "train set has 159571 rows and 8 columns\n",
      "test set has 63978 rows and 8 columns\n"
     ]
    }
   ],
   "source": [
    "print('train set has', df.shape[0], 'rows and', df.shape[1], 'columns')\n",
    "print('test set has', dftest.shape[0], 'rows and', dftest.shape[1], 'columns')"
   ]
  },
  {
   "cell_type": "code",
   "execution_count": 5,
   "metadata": {},
   "outputs": [
    {
     "data": {
      "text/plain": [
       "id               False\n",
       "comment_text     False\n",
       "toxic            False\n",
       "severe_toxic     False\n",
       "obscene          False\n",
       "threat           False\n",
       "insult           False\n",
       "identity_hate    False\n",
       "dtype: bool"
      ]
     },
     "execution_count": 5,
     "metadata": {},
     "output_type": "execute_result"
    }
   ],
   "source": [
    "df.comment_text = df.comment_text.apply( lambda x: np.nan if len(str(x)) <= 1 else x )\n",
    "df.isnull().any()"
   ]
  },
  {
   "cell_type": "code",
   "execution_count": 6,
   "metadata": {},
   "outputs": [
    {
     "data": {
      "text/html": [
       "<div>\n",
       "<style scoped>\n",
       "    .dataframe tbody tr th:only-of-type {\n",
       "        vertical-align: middle;\n",
       "    }\n",
       "\n",
       "    .dataframe tbody tr th {\n",
       "        vertical-align: top;\n",
       "    }\n",
       "\n",
       "    .dataframe thead th {\n",
       "        text-align: right;\n",
       "    }\n",
       "</style>\n",
       "<table border=\"1\" class=\"dataframe\">\n",
       "  <thead>\n",
       "    <tr style=\"text-align: right;\">\n",
       "      <th></th>\n",
       "      <th>id</th>\n",
       "      <th>comment_text</th>\n",
       "      <th>toxic</th>\n",
       "      <th>severe_toxic</th>\n",
       "      <th>obscene</th>\n",
       "      <th>threat</th>\n",
       "      <th>insult</th>\n",
       "      <th>identity_hate</th>\n",
       "    </tr>\n",
       "  </thead>\n",
       "  <tbody>\n",
       "  </tbody>\n",
       "</table>\n",
       "</div>"
      ],
      "text/plain": [
       "Empty DataFrame\n",
       "Columns: [id, comment_text, toxic, severe_toxic, obscene, threat, insult, identity_hate]\n",
       "Index: []"
      ]
     },
     "execution_count": 6,
     "metadata": {},
     "output_type": "execute_result"
    }
   ],
   "source": [
    "df[df['comment_text'].isnull()]"
   ]
  },
  {
   "cell_type": "code",
   "execution_count": 7,
   "metadata": {},
   "outputs": [
    {
     "name": "stdout",
     "output_type": "stream",
     "text": [
      "train set shape: (159571, 8)\n",
      "test set shape: (63978, 8)\n"
     ]
    }
   ],
   "source": [
    "df.dropna( inplace=True )\n",
    "print( 'train set shape:', df.shape )\n",
    "print( 'test set shape:', dftest.shape )"
   ]
  },
  {
   "cell_type": "code",
   "execution_count": 8,
   "metadata": {},
   "outputs": [],
   "source": [
    "df.comment_text = df.comment_text.astype(str)\n",
    "dftest.comment_text = dftest.comment_text.astype(str)"
   ]
  },
  {
   "cell_type": "code",
   "execution_count": 9,
   "metadata": {},
   "outputs": [
    {
     "name": "stdout",
     "output_type": "stream",
     "text": [
      "Vocabulary Size: 100000\n"
     ]
    }
   ],
   "source": [
    "labels = ['toxic', 'severe_toxic', 'obscene', 'threat', 'insult', 'identity_hate']\n",
    "\n",
    "tokenizer = text.Tokenizer( num_words=max_features )\n",
    "tokenizer.fit_on_texts( df.comment_text )\n",
    "\n",
    "print( 'Vocabulary Size:', tokenizer.num_words )"
   ]
  },
  {
   "cell_type": "code",
   "execution_count": 10,
   "metadata": {},
   "outputs": [
    {
     "data": {
      "text/plain": [
       "0"
      ]
     },
     "execution_count": 10,
     "metadata": {},
     "output_type": "execute_result"
    }
   ],
   "source": [
    "xtrain = tokenizer.texts_to_sequences( df.comment_text.values )\n",
    "xtrain = sequence.pad_sequences( xtrain, maxlen=max_len )\n",
    "\n",
    "xtest = tokenizer.texts_to_sequences( dftest.comment_text.values )\n",
    "xtest = sequence.pad_sequences( xtest, maxlen=max_len )\n",
    "\n",
    "ytrain = df[ labels ].values\n",
    "\n",
    "gc.collect()"
   ]
  },
  {
   "cell_type": "markdown",
   "metadata": {},
   "source": [
    "#### Loading FastText embedding"
   ]
  },
  {
   "cell_type": "code",
   "execution_count": 11,
   "metadata": {},
   "outputs": [
    {
     "name": "stdout",
     "output_type": "stream",
     "text": [
      "Embedding Matrix Shape: (100000, 300)\n"
     ]
    },
    {
     "data": {
      "text/plain": [
       "0"
      ]
     },
     "execution_count": 11,
     "metadata": {},
     "output_type": "execute_result"
    }
   ],
   "source": [
    "def get_coefs(word, *arr):\n",
    "    return word, np.asarray(arr, dtype='float32')\n",
    "\n",
    "embeddings_index = dict(get_coefs(*o.rstrip().rsplit(' ')) for o in open( embeddingfile, encoding='utf-8' ))\n",
    "\n",
    "word_index = tokenizer.word_index\n",
    "num_words = min(max_features, len(word_index))\n",
    "embedding_matrix = np.zeros((num_words, embed_size))\n",
    "for word, i in word_index.items():\n",
    "    if i >= max_features:\n",
    "        continue\n",
    "    embedding_vector = embeddings_index.get(word)\n",
    "    if embedding_vector is not None:\n",
    "        embedding_matrix[i] = embedding_vector\n",
    "\n",
    "del embeddings_index\n",
    "embeddings_index = None\n",
    "\n",
    "print ( 'Embedding Matrix Shape:', embedding_matrix.shape )\n",
    "\n",
    "gc.collect()"
   ]
  },
  {
   "cell_type": "code",
   "execution_count": 12,
   "metadata": {},
   "outputs": [],
   "source": [
    "K.clear_session()"
   ]
  },
  {
   "cell_type": "markdown",
   "metadata": {},
   "source": [
    "#### The Model"
   ]
  },
  {
   "cell_type": "code",
   "execution_count": 13,
   "metadata": {},
   "outputs": [],
   "source": [
    "def focal_loss(gamma=5., alpha=.25):\n",
    "    def focal_loss_fixed(y_true, y_pred):\n",
    "        pt_1 = tf.where(tf.equal(y_true, 1), y_pred, tf.ones_like(y_pred))\n",
    "        pt_0 = tf.where(tf.equal(y_true, 0), y_pred, tf.zeros_like(y_pred))\n",
    "        return -K.sum(alpha * K.pow(1. - pt_1, gamma) * K.log(pt_1))-K.sum((1-alpha) * K.pow( pt_0, gamma) * K.log(1. - pt_0))\n",
    "    return focal_loss_fixed"
   ]
  },
  {
   "cell_type": "code",
   "execution_count": 14,
   "metadata": {},
   "outputs": [
    {
     "name": "stdout",
     "output_type": "stream",
     "text": [
      "_________________________________________________________________\n",
      "Layer (type)                 Output Shape              Param #   \n",
      "=================================================================\n",
      "Embedding (Embedding)        (None, 200, 300)          30000000  \n",
      "_________________________________________________________________\n",
      "SpatialDropout1D (SpatialDro (None, 200, 300)          0         \n",
      "_________________________________________________________________\n",
      "Conv11 (Conv1D)              (None, 198, 32)           28832     \n",
      "_________________________________________________________________\n",
      "Conv12 (Conv1D)              (None, 196, 32)           3104      \n",
      "_________________________________________________________________\n",
      "MaxPool1 (MaxPooling1D)      (None, 98, 32)            0         \n",
      "_________________________________________________________________\n",
      "Conv21 (Conv1D)              (None, 96, 32)            3104      \n",
      "_________________________________________________________________\n",
      "Conv22 (Conv1D)              (None, 94, 32)            3104      \n",
      "_________________________________________________________________\n",
      "MaxPool2 (MaxPooling1D)      (None, 47, 32)            0         \n",
      "_________________________________________________________________\n",
      "Conv31 (Conv1D)              (None, 45, 32)            3104      \n",
      "_________________________________________________________________\n",
      "Conv32 (Conv1D)              (None, 43, 32)            3104      \n",
      "_________________________________________________________________\n",
      "MaxPool3 (MaxPooling1D)      (None, 21, 32)            0         \n",
      "_________________________________________________________________\n",
      "Conv41 (Conv1D)              (None, 19, 32)            3104      \n",
      "_________________________________________________________________\n",
      "Conv42 (Conv1D)              (None, 17, 32)            3104      \n",
      "_________________________________________________________________\n",
      "MaxPool4 (MaxPooling1D)      (None, 8, 32)             0         \n",
      "_________________________________________________________________\n",
      "Flatten (Flatten)            (None, 256)               0         \n",
      "_________________________________________________________________\n",
      "DropoutConcat (Dropout)      (None, 256)               0         \n",
      "_________________________________________________________________\n",
      "FC1 (Dense)                  (None, 100)               25700     \n",
      "_________________________________________________________________\n",
      "FC2 (Dense)                  (None, 50)                5050      \n",
      "_________________________________________________________________\n",
      "outputFC (Dense)             (None, 6)                 306       \n",
      "=================================================================\n",
      "Total params: 30,081,616\n",
      "Trainable params: 30,081,616\n",
      "Non-trainable params: 0\n",
      "_________________________________________________________________\n"
     ]
    }
   ],
   "source": [
    "model = Sequential()\n",
    "e = Embedding( max_features, embed_size, weights=[embedding_matrix], name='Embedding', input_length=max_len, trainable=True )\n",
    "model.add( e )\n",
    "\n",
    "model.add( SpatialDropout1D( 0.4, name='SpatialDropout1D' ) )\n",
    "\n",
    "model.add( Conv1D( 32, 3, padding='valid', activation='elu', name='Conv11' ) )\n",
    "model.add( Conv1D( 32, 3, padding='valid', activation='elu', name='Conv12' ) )\n",
    "model.add( MaxPool1D( name='MaxPool1' ) )\n",
    "\n",
    "model.add( Conv1D( 32, 3, padding='valid', activation='elu', name='Conv21' ) )\n",
    "model.add( Conv1D( 32, 3, padding='valid', activation='elu', name='Conv22' ) )\n",
    "model.add( MaxPool1D( name='MaxPool2' ) )\n",
    "\n",
    "model.add( Conv1D( 32, 3, padding='valid', activation='elu', name='Conv31' ) )\n",
    "model.add( Conv1D( 32, 3, padding='valid', activation='elu', name='Conv32' ) )\n",
    "model.add( MaxPool1D( name='MaxPool3' ) )\n",
    "\n",
    "model.add( Conv1D( 32, 3, padding='valid', activation='elu', name='Conv41' ) )\n",
    "model.add( Conv1D( 32, 3, padding='valid', activation='elu', name='Conv42' ) )\n",
    "model.add( MaxPool1D( name='MaxPool4' ) )\n",
    "\n",
    "model.add( Flatten( name='Flatten' ) )\n",
    "\n",
    "model.add( Dropout( 0.1, name='DropoutConcat' ) )\n",
    "\n",
    "model.add( Dense( 100, activation='elu', name='FC1' ) )\n",
    "model.add( Dense( 50, activation='elu', name='FC2' ) )\n",
    "model.add( Dense( 6, activation='sigmoid', name='outputFC' ) )\n",
    "\n",
    "model.compile( loss=[focal_loss(alpha=.25, gamma=5)],\n",
    "              optimizer='adam', metrics=['accuracy'] )\n",
    "model.summary(  )"
   ]
  },
  {
   "cell_type": "markdown",
   "metadata": {},
   "source": [
    "#### Train and Save the Model"
   ]
  },
  {
   "cell_type": "code",
   "execution_count": 15,
   "metadata": {},
   "outputs": [
    {
     "name": "stdout",
     "output_type": "stream",
     "text": [
      "Epoch 1/3\n",
      "159571/159571 [==============================] - 79s 494us/step - loss: 2.6016 - acc: 0.9104\n",
      "Epoch 2/3\n",
      "159571/159571 [==============================] - 75s 472us/step - loss: 2.0683 - acc: 0.9662\n",
      "Epoch 3/3\n",
      "159571/159571 [==============================] - 76s 473us/step - loss: 1.9555 - acc: 0.9770\n"
     ]
    }
   ],
   "source": [
    "hist = model.fit( xtrain, ytrain, batch_size=batch_size, epochs=epochs, verbose=1 )\n",
    "model.save(modelfilename)"
   ]
  },
  {
   "cell_type": "code",
   "execution_count": 16,
   "metadata": {},
   "outputs": [
    {
     "data": {
      "image/png": "[encoded data removed]",
      "text/plain": [
       "<Figure size 432x288 with 1 Axes>"
      ]
     },
     "metadata": {},
     "output_type": "display_data"
    }
   ],
   "source": [
    "plt.plot( hist.history['acc'], label='accuracy' )\n",
    "plt.plot( hist.history['loss'], label='loss' )\n",
    "plt.legend( loc='best' )\n",
    "plt.show()"
   ]
  },
  {
   "cell_type": "markdown",
   "metadata": {},
   "source": [
    "#### Collect the Garbage"
   ]
  },
  {
   "cell_type": "code",
   "execution_count": 17,
   "metadata": {},
   "outputs": [
    {
     "data": {
      "text/plain": [
       "20748"
      ]
     },
     "execution_count": 17,
     "metadata": {},
     "output_type": "execute_result"
    }
   ],
   "source": [
    "#del model\n",
    "#model = None\n",
    "\n",
    "gc.collect()"
   ]
  },
  {
   "cell_type": "markdown",
   "metadata": {},
   "source": [
    "#### Load the Model that was saved previously"
   ]
  },
  {
   "cell_type": "code",
   "execution_count": 18,
   "metadata": {},
   "outputs": [],
   "source": [
    "#loaded_model = load_model( modelfilename )\n",
    "loaded_model = model"
   ]
  },
  {
   "cell_type": "markdown",
   "metadata": {},
   "source": [
    "#### Getting Predictions for Traning Set"
   ]
  },
  {
   "cell_type": "code",
   "execution_count": 19,
   "metadata": {},
   "outputs": [
    {
     "name": "stdout",
     "output_type": "stream",
     "text": [
      "159571/159571 [==============================] - 9s 54us/step\n"
     ]
    }
   ],
   "source": [
    "trainpredictions = loaded_model.predict( xtrain, verbose=1, batch_size=512 )"
   ]
  },
  {
   "cell_type": "markdown",
   "metadata": {},
   "source": [
    "#### Average ROC AUC per Column (training)"
   ]
  },
  {
   "cell_type": "code",
   "execution_count": 20,
   "metadata": {},
   "outputs": [
    {
     "data": {
      "text/plain": [
       "0.9057848857248497"
      ]
     },
     "execution_count": 20,
     "metadata": {},
     "output_type": "execute_result"
    }
   ],
   "source": [
    "train_acc = accuracy_score( df[labels].values, (trainpredictions>=0.5).astype('int64') )\n",
    "train_acc"
   ]
  },
  {
   "cell_type": "code",
   "execution_count": 21,
   "metadata": {},
   "outputs": [
    {
     "name": "stdout",
     "output_type": "stream",
     "text": [
      "Average ROC AUC score per column (training): 0.9309010439626922\n"
     ]
    }
   ],
   "source": [
    "train_rocs = [roc_auc_score(df[lbl], trainpredictions[:,i]) for i, lbl in enumerate(labels)]\n",
    "print('Average ROC AUC score per column (training):', np.mean(train_rocs))"
   ]
  },
  {
   "cell_type": "markdown",
   "metadata": {},
   "source": [
    "#### Getting Predictions for Test Set"
   ]
  },
  {
   "cell_type": "code",
   "execution_count": 22,
   "metadata": {},
   "outputs": [
    {
     "name": "stdout",
     "output_type": "stream",
     "text": [
      "63978/63978 [==============================] - 3s 54us/step\n"
     ]
    }
   ],
   "source": [
    "testpredictions = loaded_model.predict( xtest, verbose=1, batch_size=512 )"
   ]
  },
  {
   "cell_type": "markdown",
   "metadata": {},
   "source": [
    "#### Average ROC AUC per Column (test)"
   ]
  },
  {
   "cell_type": "code",
   "execution_count": 23,
   "metadata": {},
   "outputs": [
    {
     "data": {
      "text/plain": [
       "0.8994654412454282"
      ]
     },
     "execution_count": 23,
     "metadata": {},
     "output_type": "execute_result"
    }
   ],
   "source": [
    "test_acc = accuracy_score( dftest[labels].values, (testpredictions>=0.5).astype('int64') )\n",
    "test_acc"
   ]
  },
  {
   "cell_type": "code",
   "execution_count": 24,
   "metadata": {},
   "outputs": [
    {
     "name": "stdout",
     "output_type": "stream",
     "text": [
      "Average ROC AUC score per column (testing): 0.8693028733427997\n"
     ]
    }
   ],
   "source": [
    "test_rocs = [roc_auc_score(dftest[lbl], testpredictions[:,i]) for i, lbl in enumerate(labels)]\n",
    "print('Average ROC AUC score per column (testing):', np.mean(test_rocs))"
   ]
  },
  {
   "cell_type": "code",
   "execution_count": 25,
   "metadata": {},
   "outputs": [
    {
     "name": "stdout",
     "output_type": "stream",
     "text": [
      "             precision    recall  f1-score   support\n",
      "\n",
      "          0       0.68      0.21      0.32      6090\n",
      "          1       0.00      0.00      0.00       367\n",
      "          2       0.78      0.19      0.31      3691\n",
      "          3       0.00      0.00      0.00       211\n",
      "          4       0.79      0.15      0.25      3427\n",
      "          5       0.00      0.00      0.00       712\n",
      "\n",
      "avg / total       0.67      0.17      0.27     14498\n",
      "\n"
     ]
    },
    {
     "name": "stderr",
     "output_type": "stream",
     "text": [
      "/home/hassaan/anaconda3/lib/python3.6/site-packages/sklearn/metrics/classification.py:1135: UndefinedMetricWarning: Precision and F-score are ill-defined and being set to 0.0 in labels with no predicted samples.\n",
      "  'precision', 'predicted', average, warn_for)\n"
     ]
    }
   ],
   "source": [
    "print(classification_report( dftest[labels].values, (testpredictions>=0.5).astype('int64') ))"
   ]
  },
  {
   "cell_type": "code",
   "execution_count": 32,
   "metadata": {},
   "outputs": [
    {
     "data": {
      "text/plain": [
       "['toxic', 'severe_toxic', 'obscene', 'threat', 'insult', 'identity_hate']"
      ]
     },
     "execution_count": 32,
     "metadata": {},
     "output_type": "execute_result"
    }
   ],
   "source": [
    "labels"
   ]
  },
  {
   "cell_type": "code",
   "execution_count": 36,
   "metadata": {},
   "outputs": [
    {
     "data": {
      "text/plain": [
       "0.6810299527062533"
      ]
     },
     "execution_count": 36,
     "metadata": {},
     "output_type": "execute_result"
    }
   ],
   "source": [
    "from sklearn.metrics import precision_score\n",
    "precision_score(dftest.toxic, (testpredictions[:,0]>=0.5).astype('int64') )"
   ]
  },
  {
   "cell_type": "code",
   "execution_count": 26,
   "metadata": {},
   "outputs": [
    {
     "data": {
      "image/png": "[encoded data removed]",
      "text/plain": [
       "<Figure size 576x432 with 1 Axes>"
      ]
     },
     "metadata": {},
     "output_type": "display_data"
    }
   ],
   "source": [
    "plt.figure(figsize=(8, 6))\n",
    "for i, lbl in enumerate(labels):\n",
    "    precision, recall, _ = precision_recall_curve(dftest[lbl], testpredictions[:,i])\n",
    "    plt.step(recall, precision, where='post', label='{0}'.format(labels[i]))\n",
    "\n",
    "plt.xlabel('Recall')\n",
    "plt.ylabel('Precision')\n",
    "plt.ylim([0.0, 1.05])\n",
    "plt.xlim([0.0, 1.0])\n",
    "plt.title( 'Precision-Recall Curve for {0}'.format(modelname) )\n",
    "plt.legend(loc='upper right')\n",
    "plt.show()"
   ]
  },
  {
   "cell_type": "code",
   "execution_count": 27,
   "metadata": {},
   "outputs": [
    {
     "data": {
      "image/png": "[encoded data removed]",
      "text/plain": [
       "<Figure size 576x432 with 1 Axes>"
      ]
     },
     "metadata": {},
     "output_type": "display_data"
    }
   ],
   "source": [
    "fpr = dict()\n",
    "tpr = dict()\n",
    "roc_auc = dict()\n",
    "for i, lbl in enumerate(labels):\n",
    "    fpr[i], tpr[i], _ = roc_curve( dftest[lbl], testpredictions[:,i] )\n",
    "    roc_auc[i] = auc(fpr[i], tpr[i])\n",
    "\n",
    "plt.figure(figsize=(8, 6))\n",
    "\n",
    "for i in range( len(labels) ):\n",
    "    plt.plot(fpr[i], tpr[i], lw=2, label='{0} (area = {1:0.2f})'.format(labels[i], roc_auc[i]))\n",
    "\n",
    "plt.plot([0, 1], [0, 1], '--', lw=3, color='navy')\n",
    "plt.xlim([0.0, 1.0])\n",
    "plt.ylim([0.0, 1.05])\n",
    "plt.xlabel('False Positive Rate')\n",
    "plt.ylabel('True Positive Rate')\n",
    "plt.title('ROC Curve for {0}'.format(modelname))\n",
    "plt.legend(loc=\"lower right\")\n",
    "plt.show()"
   ]
  },
  {
   "cell_type": "code",
   "execution_count": 28,
   "metadata": {},
   "outputs": [
    {
     "data": {
      "text/plain": [
       "6244"
      ]
     },
     "execution_count": 28,
     "metadata": {},
     "output_type": "execute_result"
    }
   ],
   "source": [
    "gc.collect()"
   ]
  }
 ],
 "metadata": {
  "kernelspec": {
   "display_name": "Python 3",
   "language": "python",
   "name": "python3"
  },
  "language_info": {
   "codemirror_mode": {
    "name": "ipython",
    "version": 3
   },
   "file_extension": ".py",
   "mimetype": "text/x-python",
   "name": "python",
   "nbconvert_exporter": "python",
   "pygments_lexer": "ipython3",
   "version": "3.6.5"
  }
 },
 "nbformat": 4,
 "nbformat_minor": 2
}
